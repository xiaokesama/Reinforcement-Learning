{
 "cells": [
  {
   "cell_type": "code",
   "id": "initial_id",
   "metadata": {
    "collapsed": true,
    "ExecuteTime": {
     "end_time": "2024-09-12T02:43:44.800310Z",
     "start_time": "2024-09-12T02:43:44.609288Z"
    }
   },
   "source": [
    "import gym\n",
    "from gridworld import CliffWalkingWapper\n",
    "import random"
   ],
   "outputs": [],
   "execution_count": 1
  },
  {
   "metadata": {},
   "cell_type": "code",
   "source": [
    "env = gym.make('CliffWalking-v0')\n",
    "env = CliffWalkingWapper(env)\n",
    "env.reset()"
   ],
   "id": "e36ffd9c1df42ad8",
   "outputs": [],
   "execution_count": null
  },
  {
   "metadata": {},
   "cell_type": "code",
   "source": "env.render()",
   "id": "dc64ecc6f496d8a6",
   "outputs": [],
   "execution_count": null
  },
  {
   "metadata": {},
   "cell_type": "code",
   "source": "env.step(0)",
   "id": "e214512dc77e0ea6",
   "outputs": [],
   "execution_count": null
  },
  {
   "metadata": {},
   "cell_type": "code",
   "source": "env.render()",
   "id": "77537eab929a36a3",
   "outputs": [],
   "execution_count": null
  },
  {
   "metadata": {},
   "cell_type": "code",
   "source": [
    "env.step(0)\n",
    "env.render()"
   ],
   "id": "1433d59a85c89ab9",
   "outputs": [],
   "execution_count": null
  },
  {
   "metadata": {},
   "cell_type": "code",
   "source": [
    "env.step(1)\n",
    "env.render()"
   ],
   "id": "4b5dae8f839c6f06",
   "outputs": [],
   "execution_count": null
  },
  {
   "metadata": {},
   "cell_type": "code",
   "source": [
    "env.step(2)\n",
    "env.render()"
   ],
   "id": "1d138538645b8d7d",
   "outputs": [],
   "execution_count": null
  },
  {
   "metadata": {
    "ExecuteTime": {
     "end_time": "2024-09-12T02:45:08.702136Z",
     "start_time": "2024-09-12T02:44:10.514453Z"
    }
   },
   "cell_type": "code",
   "source": [
    "env = gym.make('CliffWalking-v0')\n",
    "env = CliffWalkingWapper(env)\n",
    "env.reset()\n",
    "while True:\n",
    "    action = random.randint(0, 3)\n",
    "    state, reward, done, info = env.step(action)\n",
    "    env.render()\n",
    "    if done:break"
   ],
   "id": "7bade3e023e2ce44",
   "outputs": [],
   "execution_count": 2
  },
  {
   "metadata": {},
   "cell_type": "code",
   "outputs": [],
   "execution_count": null,
   "source": "",
   "id": "d0e655110bb11166"
  }
 ],
 "metadata": {
  "kernelspec": {
   "display_name": "Python 3",
   "language": "python",
   "name": "python3"
  },
  "language_info": {
   "codemirror_mode": {
    "name": "ipython",
    "version": 2
   },
   "file_extension": ".py",
   "mimetype": "text/x-python",
   "name": "python",
   "nbconvert_exporter": "python",
   "pygments_lexer": "ipython2",
   "version": "2.7.6"
  }
 },
 "nbformat": 4,
 "nbformat_minor": 5
}
