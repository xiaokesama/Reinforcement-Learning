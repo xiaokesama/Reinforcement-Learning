{
 "cells": [
  {
   "cell_type": "code",
   "id": "initial_id",
   "metadata": {
    "collapsed": true
   },
   "source": [
    "import gym\n",
    "from gridworld import CliffWalkingWapper\n",
    "import time\n",
    "import numpy as np"
   ],
   "outputs": [],
   "execution_count": null
  },
  {
   "metadata": {},
   "cell_type": "code",
   "source": [
    "env = gym.make('CliffWalking-v0')\n",
    "env = CliffWalkingWapper(env)"
   ],
   "id": "114348120ce0a479",
   "outputs": [],
   "execution_count": null
  },
  {
   "metadata": {},
   "cell_type": "code",
   "source": [
    "class SarsaAgent(object):\n",
    "    def __init__(self, obs_n, act_n, learning_rate=0.01, gamma=0.9, e_greed=0.1):\n",
    "        self.act_n = act_n\n",
    "        self.lr = learning_rate\n",
    "        self.gamma = gamma\n",
    "        self.epsilon = e_greed\n",
    "        self.Q = np.zeros((obs_n, act_n))\n",
    "    def sample(self, obs):\n",
    "        if np.random.uniform(0,1) < (1 - self.epsilon):\n",
    "            action = self.predict(obs)\n",
    "        else:\n",
    "            action = np.random.choice(self.act_n)\n",
    "        return action\n",
    "    def predict(self, obs):\n",
    "        Q_list = self.Q[obs,:]\n",
    "        action_index = np.where(Q_list == np.max(Q_list))[0]\n",
    "        action = np.random.choice(action_index)\n",
    "        return action\n",
    "    def learn(self, obs, action, reward, next_obs, next_action, done):\n",
    "        predict_Q = self.Q[obs, action]\n",
    "        if done:\n",
    "            target_Q = reward\n",
    "        else:\n",
    "            target_Q = reward + self.gamma * self.Q[next_obs, next_action]\n",
    "        self.Q[obs, action] += self.lr * (target_Q - predict_Q)"
   ],
   "id": "efe6637a00d48461",
   "outputs": [],
   "execution_count": null
  },
  {
   "metadata": {},
   "cell_type": "code",
   "source": [
    "def run_episode(env, agent, is_render=False):\n",
    "    total_steps = 0\n",
    "    total_reward = 0\n",
    "    obs = env.reset()\n",
    "    action = agent.sample(obs)\n",
    "    while True:\n",
    "        if is_render:env.render()\n",
    "        next_obs, reward, done, _ = env.step(action)\n",
    "        next_action = agent.sample(next_obs)\n",
    "        agent.learn(obs, action, reward, next_obs, next_action, done)\n",
    "        obs = next_obs\n",
    "        action = next_action\n",
    "        total_reward += reward\n",
    "        total_steps += 1\n",
    "        if done:break\n",
    "    return total_reward, total_steps"
   ],
   "id": "1f924ef3a1400932",
   "outputs": [],
   "execution_count": null
  },
  {
   "metadata": {},
   "cell_type": "code",
   "source": [
    "def test_episode(env, agent):\n",
    "    total_rewards = 0\n",
    "    obs = env.reset()\n",
    "    while True:\n",
    "        action = agent.predict(obs)\n",
    "        next_obs, reward, done, _ = env.step(action)\n",
    "        obs = next_obs\n",
    "        total_rewards += total_rewards\n",
    "        time.sleep(0.5)\n",
    "        if done:break"
   ],
   "id": "a03e1dde80d8666c",
   "outputs": [],
   "execution_count": null
  },
  {
   "metadata": {},
   "cell_type": "code",
   "source": [
    "def main():\n",
    "    env = gym.make('CliffWalking-v0')\n",
    "    env = CliffWalkingWapper(env)\n",
    "    agent = SarsaAgent(\n",
    "        env.observation_space.n, \n",
    "        env.action_space.n, \n",
    "        learning_rate=0.1, \n",
    "        gamma=0.9, \n",
    "        e_greed=0.1)\n",
    "    for episode in range(500):\n",
    "        ep_reward, ep_steps = run_episode(env, agent, is_render)\n",
    "        print('Episode:', episode, 'Reward:', ep_reward, 'Steps:', ep_steps)\n",
    "        is_render = True if episode % 10 == 0 else False\n",
    "    \n",
    "    test_episode(env, agent)\n",
    "\n",
    "main()"
   ],
   "id": "fe5edd03f8a458d9",
   "outputs": [],
   "execution_count": null
  },
  {
   "metadata": {},
   "cell_type": "code",
   "source": "",
   "id": "c0ad67fa9f1973d8",
   "outputs": [],
   "execution_count": null
  },
  {
   "metadata": {},
   "cell_type": "code",
   "source": "",
   "id": "91433814c8be6f4e",
   "outputs": [],
   "execution_count": null
  }
 ],
 "metadata": {
  "kernelspec": {
   "display_name": "Python 3",
   "language": "python",
   "name": "python3"
  },
  "language_info": {
   "codemirror_mode": {
    "name": "ipython",
    "version": 2
   },
   "file_extension": ".py",
   "mimetype": "text/x-python",
   "name": "python",
   "nbconvert_exporter": "python",
   "pygments_lexer": "ipython2",
   "version": "2.7.6"
  }
 },
 "nbformat": 4,
 "nbformat_minor": 5
}
